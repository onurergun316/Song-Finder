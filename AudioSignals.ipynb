{
 "cells": [
  {
   "cell_type": "code",
   "execution_count": 1,
   "metadata": {},
   "outputs": [],
   "source": [
    "import numpy as np      \n",
    "import matplotlib.pyplot as plt \n",
    "import scipy.io.wavfile \n",
    "import subprocess\n",
    "import librosa\n",
    "import librosa.display\n",
    "import IPython.display as ipd\n",
    "import random\n",
    "from pathlib import Path, PurePath   \n",
    "from tqdm.notebook import tqdm"
   ]
  },
  {
   "cell_type": "markdown",
   "metadata": {},
   "source": [
    "## Utility functions"
   ]
  },
  {
   "cell_type": "code",
   "execution_count": 2,
   "metadata": {},
   "outputs": [],
   "source": [
    "def convert_mp3_to_wav(audio:str) -> str:  \n",
    "    \"\"\"Convert an input MP3 audio track into a WAV file.\n",
    "\n",
    "    Args:\n",
    "        audio (str): An input audio track.\n",
    "\n",
    "    Returns:\n",
    "        [str]: WAV filename.\n",
    "    \"\"\"\n",
    "    if audio[-3:] == \"mp3\":\n",
    "        wav_audio = audio[:-3] + \"wav\"\n",
    "        if not Path(wav_audio).exists():\n",
    "                subprocess.check_output(f\"ffmpeg -i {audio} {wav_audio}\", shell=True)\n",
    "        return wav_audio\n",
    "    \n",
    "    return audio\n",
    "\n",
    "def plot_spectrogram_and_peaks(track:np.ndarray, sr:int, peaks:np.ndarray, onset_env:np.ndarray) -> None:\n",
    "    \"\"\"Plots the spectrogram and peaks \n",
    "\n",
    "    Args:\n",
    "        track (np.ndarray): A track.\n",
    "        sr (int): Aampling rate.\n",
    "        peaks (np.ndarray): Indices of peaks in the track.\n",
    "        onset_env (np.ndarray): Vector containing the onset strength envelope.\n",
    "    \"\"\"\n",
    "    times = librosa.frames_to_time(np.arange(len(onset_env)),\n",
    "                            sr=sr, hop_length=HOP_SIZE)\n",
    "\n",
    "    plt.figure()\n",
    "    ax = plt.subplot(2, 1, 2)\n",
    "    D = librosa.stft(track)\n",
    "    librosa.display.specshow(librosa.amplitude_to_db(np.abs(D), ref=np.max),\n",
    "                            y_axis='log', x_axis='time')\n",
    "    plt.subplot(2, 1, 1, sharex=ax)\n",
    "    plt.plot(times, onset_env, alpha=0.8, label='Onset strength')\n",
    "    plt.vlines(times[peaks], 0,\n",
    "            onset_env.max(), color='r', alpha=0.8,\n",
    "            label='Selected peaks')\n",
    "    plt.legend(frameon=True, framealpha=0.8)\n",
    "    plt.axis('tight')\n",
    "    plt.tight_layout()\n",
    "    plt.show()\n",
    "\n",
    "def load_audio_peaks(audio, offset, duration, hop_size):\n",
    "    \"\"\"Load the tracks and peaks of an audio.\n",
    "\n",
    "    Args:\n",
    "        audio (string, int, pathlib.Path or file-like object): [description]\n",
    "        offset (float): start reading after this time (in seconds)\n",
    "        duration (float): only load up to this much audio (in seconds)\n",
    "        hop_size (int): the hop_length\n",
    "\n",
    "    Returns:\n",
    "        tuple: Returns the audio time series (track) and sampling rate (sr), a vector containing the onset strength envelope\n",
    "        (onset_env), and the indices of peaks in track (peaks).\n",
    "    \"\"\"\n",
    "    try:\n",
    "        track, sr = librosa.load(audio, offset=offset, duration=duration)\n",
    "        onset_env = librosa.onset.onset_strength(track, sr=sr, hop_length=hop_size)\n",
    "        peaks = librosa.util.peak_pick(onset_env, 10, 10, 10, 10, 0.5, 0.5)\n",
    "    except Error as e:\n",
    "        print('An error occurred processing ', str(audio))\n",
    "        print(e)\n",
    "\n",
    "    return track, sr, onset_env, peaks\n",
    "    \n",
    "    "
   ]
  },
  {
   "cell_type": "markdown",
   "metadata": {},
   "source": [
    "## Settings"
   ]
  },
  {
   "cell_type": "code",
   "execution_count": 21,
   "metadata": {},
   "outputs": [],
   "source": [
    "N_TRACKS = 1413 \n",
    "HOP_SIZE = 512\n",
    "OFFSET = 1.0\n",
    "DURATION = 5 \n",
    "THRESHOLD = 0.7 # the limit to consider a song 'same' to the query one\n",
    "SIMILARITY_THRESHOLD = 0.2 # the limit to consider a song 'similar' the a query one"
   ]
  },
  {
   "cell_type": "code",
   "execution_count": 22,
   "metadata": {},
   "outputs": [],
   "source": [
    "data_folder = Path(\"data/mp3s-32k/\")\n",
    "mp3_tracks = data_folder.glob(\"*/*/*.mp3\")\n",
    "tracks = data_folder.glob(\"*/*/*.wav\")\n",
    "query_folder = Path(\"query_songs/\")\n",
    "query_tracks = query_folder.glob(\"*.wav\")"
   ]
  },
  {
   "cell_type": "markdown",
   "metadata": {},
   "source": [
    "## Preprocessing"
   ]
  },
  {
   "cell_type": "code",
   "execution_count": 23,
   "metadata": {},
   "outputs": [
    {
     "data": {
      "application/vnd.jupyter.widget-view+json": {
       "model_id": "bed32601d7ec46699354273e991bbf40",
       "version_major": 2,
       "version_minor": 0
      },
      "text/plain": [
       "  0%|          | 0/1413 [00:00<?, ?it/s]"
      ]
     },
     "metadata": {},
     "output_type": "display_data"
    }
   ],
   "source": [
    "for track in tqdm(mp3_tracks, total=N_TRACKS):\n",
    "    convert_mp3_to_wav(str(track))"
   ]
  },
  {
   "cell_type": "markdown",
   "metadata": {},
   "source": [
    "## Minhash"
   ]
  },
  {
   "cell_type": "code",
   "execution_count": 5,
   "metadata": {},
   "outputs": [],
   "source": [
    "def get_audio_signals(num):\n",
    "    for idx, audio in tqdm(enumerate(tracks)):\n",
    "        if idx >= num:\n",
    "            break\n",
    "        track, sr, onset_env, peaks = load_audio_peaks(audio, OFFSET, DURATION, HOP_SIZE)\n",
    "        peaks_list.append(peaks) # append the each peak values of a song to peaks_list\n",
    "        song_name = (str(audio).rsplit('-', 1)[-1]).replace('.wav','') # trim the .wav and folder names from the name of a song\n",
    "        song_name_list.append(song_name) # append the song name to a list"
   ]
  },
  {
   "cell_type": "code",
   "execution_count": 6,
   "metadata": {},
   "outputs": [
    {
     "data": {
      "application/vnd.jupyter.widget-view+json": {
       "model_id": "6e49d5064aad4528a26a6c3869d54c55",
       "version_major": 2,
       "version_minor": 0
      },
      "text/plain": [
       "0it [00:00, ?it/s]"
      ]
     },
     "metadata": {},
     "output_type": "display_data"
    }
   ],
   "source": [
    "peaks_list = [] # list of peaks of all the songs\n",
    "song_name_list = [] # all the songs names\n",
    "get_audio_signals(N_TRACKS) # list that stores the signals of all songs "
   ]
  },
  {
   "cell_type": "code",
   "execution_count": 23,
   "metadata": {},
   "outputs": [],
   "source": [
    "# assigning the each unique peak indices to a list\n",
    "# so that we have a set of peak values of all the signals \n",
    "peaks_shingles_list = list(set([item for sublist in peaks_list for item in sublist]))\n",
    "num_permutation = 200 # number of times we will permute and check if the values are matching\n",
    "# shuffling the list 'once' because,\n",
    "# shuffling the list on every permutation and taking the first element is\n",
    "# equal to shuffling it once and taking the elements from the list within\n",
    "# the range of number of permutations\n",
    "random.shuffle(peaks_shingles_list)\n",
    "song_appear_list = [] # list to store the unique peak values that are appeared on shingles \n",
    "for i in range(len(peaks_list)):\n",
    "    appear_list = [] # a temp list to store each songs peaks \n",
    "    for j in range(num_permutation):\n",
    "        if(peaks_shingles_list[j] in peaks_list[i]):\n",
    "            # if the peaks match, store it in appear list\n",
    "            # the 'i'th index of appear_list is also equal to 'i'th index of peaks_list\n",
    "            # therefore the 'i'th index is also equal to the index of songs names \n",
    "            appear_list.append(peaks_shingles_list[j]) \n",
    "    # adding all the peaks that appeared of a song to a list\n",
    "    # each index represents a song and each index is on a parallel order \n",
    "    # with the song_name_list\n",
    "    song_appear_list.append(appear_list)    \n",
    "            "
   ]
  },
  {
   "cell_type": "code",
   "execution_count": 24,
   "metadata": {},
   "outputs": [],
   "source": [
    "# getting the jaccard similarity of two lists\n",
    "def jaccard_similarity(list1, list2):\n",
    "    intersection = len(list(set(list1).intersection(list2)))\n",
    "    union = (len(set(list1)) + len(set(list2))) - intersection\n",
    "    return round(float(intersection) / union,3)"
   ]
  },
  {
   "cell_type": "code",
   "execution_count": 25,
   "metadata": {},
   "outputs": [],
   "source": [
    "# find the similarity between query_song's signal and the signals of the songs that we've stored.\n",
    "def find_similarity_query(song_appear_list, query_song):\n",
    "    similarity_list = [] # a list to store all the similarity between query and database songs\n",
    "    for i in range(len(song_appear_list)):\n",
    "        # find the jaccard similarity of the query song and database songs and store the values in a list \n",
    "        similarity = jaccard_similarity(song_appear_list[i], query_song)\n",
    "        similarity_list.append(similarity)\n",
    "    return (similarity_list)"
   ]
  },
  {
   "cell_type": "code",
   "execution_count": 26,
   "metadata": {},
   "outputs": [],
   "source": [
    "def get_query_songs_signals(num):\n",
    "    # get the query songs signals \n",
    "    # same process we do for the songs on database\n",
    "    for idxx, audio in enumerate(query_tracks):\n",
    "        if idxx >= num:\n",
    "            break\n",
    "        track, sr, onset_env, peaks = load_audio_peaks(audio, OFFSET, DURATION, HOP_SIZE)\n",
    "        query_peaks_list.append(peaks)\n",
    "        query_song_name = (str(audio).rsplit('/', 1)[-1]).replace('.wav','')\n",
    "        query_song_name_list.append(query_song_name)"
   ]
  },
  {
   "cell_type": "code",
   "execution_count": 27,
   "metadata": {},
   "outputs": [],
   "source": [
    "def find_the_query_song(query_song_name_list, query_peaks_list, song_appear_list, song_name_list):\n",
    "    print(\"Similarity \\t\\t Query track name \\t\\t Song name\")\n",
    "    for i in range(len(query_song_name_list)):\n",
    "        match = True\n",
    "        if(i > 0):\n",
    "            # if its not the first song, print a line to let us know we're moving to next query song\n",
    "            print('************************ moving to next song ************************')\n",
    "        query_song = query_peaks_list[i] # get the query_songs signal\n",
    "        similarity_list = find_similarity_query(song_appear_list, query_song) # find the similarity\n",
    "        max_value = max(similarity_list) # get the max value of the similarity\n",
    "        max_index = similarity_list.index(max_value) # get the index of the max value\n",
    "        if(similarity_list[max_index] > THRESHOLD): # if the similarity is higher than the 'THRESHOLD' , print it.\n",
    "            print(similarity_list[max_index],'\\t\\t\\t',query_song_name_list[i],'\\t\\t\\t',song_name_list[max_index])\n",
    "        else:\n",
    "            # if its less, than no match! sorry.\n",
    "            print('oops, no match!')\n",
    "            match = False # this variable, we'll use to recommend 3 songs\n",
    "            \n",
    "        # regardless of match or no match situtation, we ask to user if they want similar songs suggestion.\n",
    "        choice = input('Do you want to get recommended with similar songs to your query? press y to proceed, any other key to exit')\n",
    "        if(choice == 'Y' or choice == 'y'): \n",
    "            # if the answer is yes, we recommend '3' similar songs\n",
    "            similarity_list = np.array(similarity_list) # convert to np.array\n",
    "            # if we have already matched a song, but user still wants similar to query one, then...\n",
    "            if(match == True):\n",
    "                # get the 4 max similarity, and delete the first (aka max) one.\n",
    "                number_of_similar_items = 4\n",
    "                indices = (-similarity_list).argsort()[:number_of_similar_items]\n",
    "                indices = np.delete(indices, 0)\n",
    "            else:\n",
    "                # if there was no match (aka match == False), then we can take the first 3 as similar.\n",
    "                number_of_similar_items = 3\n",
    "                indices = (-similarity_list).argsort()[:number_of_similar_items]\n",
    "            \n",
    "            counter = 0 # counter to count, if there is no match higher than the threshold.\n",
    "            if(len(indices) != 0):\n",
    "                # if there is a match then...\n",
    "                for j in range(len(indices)):\n",
    "                    # get the max index \n",
    "                    max_index = indices[j]\n",
    "                    # if that index's similarity is higher than the threshold, print it, and increase the counter by one.\n",
    "                    if(similarity_list[max_index] > SIMILARITY_THRESHOLD ):\n",
    "                        counter+=1\n",
    "                        print(similarity_list[max_index],'\\t\\t\\t',query_song_name_list[i],'\\t\\t\\t',song_name_list[max_index])\n",
    "                if(counter < 1):\n",
    "                    print('oops, no similar songs, what a unique song, hehe!')\n",
    "\n",
    "            else:\n",
    "                print('oops, no similar songs, what a unique song, hehe!')\n",
    "\n",
    "\n",
    "\n",
    "        "
   ]
  },
  {
   "cell_type": "code",
   "execution_count": 28,
   "metadata": {},
   "outputs": [
    {
     "name": "stdout",
     "output_type": "stream",
     "text": [
      "Similarity \t\t Query track name \t\t Song name\n",
      "0.909 \t\t\t track8 \t\t\t American_Idiot\n"
     ]
    },
    {
     "name": "stdin",
     "output_type": "stream",
     "text": [
      "Do you want to get recommended with similar songs to your query? press y to proceed, any other key to exit y\n"
     ]
    },
    {
     "name": "stdout",
     "output_type": "stream",
     "text": [
      "0.357 \t\t\t track8 \t\t\t No_Remorse\n",
      "0.294 \t\t\t track8 \t\t\t Erotica\n",
      "************************ moving to next song ************************\n",
      "1.0 \t\t\t track9 \t\t\t Somebody\n"
     ]
    },
    {
     "name": "stdin",
     "output_type": "stream",
     "text": [
      "Do you want to get recommended with similar songs to your query? press y to proceed, any other key to exit o\n"
     ]
    },
    {
     "name": "stdout",
     "output_type": "stream",
     "text": [
      "************************ moving to next song ************************\n",
      "1.0 \t\t\t track10 \t\t\t Black_Friday\n"
     ]
    },
    {
     "name": "stdin",
     "output_type": "stream",
     "text": [
      "Do you want to get recommended with similar songs to your query? press y to proceed, any other key to exit y\n"
     ]
    },
    {
     "name": "stdout",
     "output_type": "stream",
     "text": [
      "0.235 \t\t\t track10 \t\t\t Creeping_Death\n",
      "0.211 \t\t\t track10 \t\t\t Oh_Darling\n",
      "************************ moving to next song ************************\n",
      "0.882 \t\t\t track2 \t\t\t I_Want_To_Break_Free\n"
     ]
    },
    {
     "name": "stdin",
     "output_type": "stream",
     "text": [
      "Do you want to get recommended with similar songs to your query? press y to proceed, any other key to exit y\n"
     ]
    },
    {
     "name": "stdout",
     "output_type": "stream",
     "text": [
      "0.292 \t\t\t track2 \t\t\t Round_Round_Round\n",
      "************************ moving to next song ************************\n",
      "1.0 \t\t\t track3 \t\t\t October\n"
     ]
    },
    {
     "name": "stdin",
     "output_type": "stream",
     "text": [
      "Do you want to get recommended with similar songs to your query? press y to proceed, any other key to exit y\n"
     ]
    },
    {
     "name": "stdout",
     "output_type": "stream",
     "text": [
      "0.273 \t\t\t track3 \t\t\t I_m_In_Love_With_My_Car\n",
      "0.222 \t\t\t track3 \t\t\t Digging_a_Ditch\n",
      "************************ moving to next song ************************\n",
      "1.0 \t\t\t track1 \t\t\t Dream_On\n"
     ]
    },
    {
     "name": "stdin",
     "output_type": "stream",
     "text": [
      "Do you want to get recommended with similar songs to your query? press y to proceed, any other key to exit y\n"
     ]
    },
    {
     "name": "stdout",
     "output_type": "stream",
     "text": [
      "0.278 \t\t\t track1 \t\t\t Friends\n",
      "0.211 \t\t\t track1 \t\t\t Keep_Passing_The_Open_Windows\n",
      "************************ moving to next song ************************\n",
      "0.889 \t\t\t track4 \t\t\t Da\n"
     ]
    },
    {
     "name": "stdin",
     "output_type": "stream",
     "text": [
      "Do you want to get recommended with similar songs to your query? press y to proceed, any other key to exit y\n"
     ]
    },
    {
     "name": "stdout",
     "output_type": "stream",
     "text": [
      "0.4 \t\t\t track4 \t\t\t Machines_Back_To_Humans_\n",
      "************************ moving to next song ************************\n",
      "1.0 \t\t\t track5 \t\t\t Karma_Police\n"
     ]
    },
    {
     "name": "stdin",
     "output_type": "stream",
     "text": [
      "Do you want to get recommended with similar songs to your query? press y to proceed, any other key to exit y\n"
     ]
    },
    {
     "name": "stdout",
     "output_type": "stream",
     "text": [
      "0.267 \t\t\t track5 \t\t\t Can_t_Go_Back\n",
      "0.222 \t\t\t track5 \t\t\t Ireland\n",
      "0.214 \t\t\t track5 \t\t\t Salvation\n",
      "************************ moving to next song ************************\n",
      "0.909 \t\t\t track7 \t\t\t Go_Your_Own_Way\n"
     ]
    },
    {
     "name": "stdin",
     "output_type": "stream",
     "text": [
      "Do you want to get recommended with similar songs to your query? press y to proceed, any other key to exit y\n"
     ]
    },
    {
     "name": "stdout",
     "output_type": "stream",
     "text": [
      "0.25 \t\t\t track7 \t\t\t You_Can_t_Do_That\n",
      "0.235 \t\t\t track7 \t\t\t Effigy\n",
      "0.222 \t\t\t track7 \t\t\t soul_deep\n",
      "************************ moving to next song ************************\n",
      "1.0 \t\t\t track6 \t\t\t Heartbreaker\n"
     ]
    },
    {
     "name": "stdin",
     "output_type": "stream",
     "text": [
      "Do you want to get recommended with similar songs to your query? press y to proceed, any other key to exit y\n"
     ]
    },
    {
     "name": "stdout",
     "output_type": "stream",
     "text": [
      "0.25 \t\t\t track6 \t\t\t Nice_Guys_Finish_Last\n",
      "0.214 \t\t\t track6 \t\t\t Seconds\n"
     ]
    }
   ],
   "source": [
    "query_peaks_list = []\n",
    "query_song_name_list = []\n",
    "get_query_songs_signals(10) # '10' stands for the number of query songs\n",
    "find_the_query_song(query_song_name_list, query_peaks_list, song_appear_list, song_name_list)"
   ]
  },
  {
   "cell_type": "code",
   "execution_count": null,
   "metadata": {},
   "outputs": [],
   "source": []
  }
 ],
 "metadata": {
  "interpreter": {
   "hash": "1cab321cb1acdda0c363d7de36f5defdacb4b1bdc03056ebbf5164ad5dbb0ce6"
  },
  "kernelspec": {
   "display_name": "Python 3",
   "language": "python",
   "name": "python3"
  },
  "language_info": {
   "codemirror_mode": {
    "name": "ipython",
    "version": 3
   },
   "file_extension": ".py",
   "mimetype": "text/x-python",
   "name": "python",
   "nbconvert_exporter": "python",
   "pygments_lexer": "ipython3",
   "version": "3.8.8"
  }
 },
 "nbformat": 4,
 "nbformat_minor": 4
}
